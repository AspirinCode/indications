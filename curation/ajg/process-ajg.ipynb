{
 "cells": [
  {
   "cell_type": "markdown",
   "metadata": {},
   "source": [
    "# Convert AJG's xlxs curation to a TSV"
   ]
  },
  {
   "cell_type": "code",
   "execution_count": 1,
   "metadata": {
    "collapsed": true
   },
   "outputs": [],
   "source": [
    "import pandas"
   ]
  },
  {
   "cell_type": "code",
   "execution_count": 2,
   "metadata": {
    "collapsed": false
   },
   "outputs": [],
   "source": [
    "path = 'List of Drugs for Daniel Himmelstein.xlsx'\n",
    "ajg_df = pandas.read_excel(path, sheetname='catalog')\n",
    "\n",
    "renamer = {\n",
    "    'IND': 'classification',\n",
    "    'Unnamed: 12': 'notes',\n",
    "}\n",
    "\n",
    "ajg_df = ajg_df.drop(['classification', 'notes'], axis=1)\n",
    "ajg_df = ajg_df.rename(columns=renamer)\n",
    "ajg_df.classification = ajg_df.classification.str.upper()\n",
    "ajg_df = ajg_df[['drug', 'disease', 'classification', 'notes', 'drug_url', 'disease_url']]"
   ]
  },
  {
   "cell_type": "code",
   "execution_count": 3,
   "metadata": {
    "collapsed": false
   },
   "outputs": [
    {
     "data": {
      "text/html": [
       "<div>\n",
       "<table border=\"1\" class=\"dataframe\">\n",
       "  <thead>\n",
       "    <tr style=\"text-align: right;\">\n",
       "      <th></th>\n",
       "      <th>drug</th>\n",
       "      <th>disease</th>\n",
       "      <th>classification</th>\n",
       "      <th>notes</th>\n",
       "      <th>drug_url</th>\n",
       "      <th>disease_url</th>\n",
       "    </tr>\n",
       "  </thead>\n",
       "  <tbody>\n",
       "    <tr>\n",
       "      <th>0</th>\n",
       "      <td>Abacavir</td>\n",
       "      <td>acquired immunodeficiency syndrome</td>\n",
       "      <td>DM</td>\n",
       "      <td>NaN</td>\n",
       "      <td>http://www.drugbank.ca/drugs/DB01048</td>\n",
       "      <td>http://www.disease-ontology.org/term/DOID%3A635</td>\n",
       "    </tr>\n",
       "    <tr>\n",
       "      <th>1</th>\n",
       "      <td>Abiraterone</td>\n",
       "      <td>prostate cancer</td>\n",
       "      <td>DM</td>\n",
       "      <td>NaN</td>\n",
       "      <td>http://www.drugbank.ca/drugs/DB05812</td>\n",
       "      <td>http://www.disease-ontology.org/term/DOID%3A10283</td>\n",
       "    </tr>\n",
       "    <tr>\n",
       "      <th>2</th>\n",
       "      <td>Acamprosate</td>\n",
       "      <td>alcohol dependence</td>\n",
       "      <td>DM</td>\n",
       "      <td>NaN</td>\n",
       "      <td>http://www.drugbank.ca/drugs/DB00659</td>\n",
       "      <td>http://www.disease-ontology.org/term/DOID%3A00...</td>\n",
       "    </tr>\n",
       "    <tr>\n",
       "      <th>3</th>\n",
       "      <td>Acarbose</td>\n",
       "      <td>type 2 diabetes mellitus</td>\n",
       "      <td>SYM</td>\n",
       "      <td>NaN</td>\n",
       "      <td>http://www.drugbank.ca/drugs/DB00284</td>\n",
       "      <td>http://www.disease-ontology.org/term/DOID%3A9352</td>\n",
       "    </tr>\n",
       "    <tr>\n",
       "      <th>4</th>\n",
       "      <td>Acebutolol</td>\n",
       "      <td>hypertension</td>\n",
       "      <td>SYM</td>\n",
       "      <td>NaN</td>\n",
       "      <td>http://www.drugbank.ca/drugs/DB01193</td>\n",
       "      <td>http://www.disease-ontology.org/term/DOID%3A10763</td>\n",
       "    </tr>\n",
       "  </tbody>\n",
       "</table>\n",
       "</div>"
      ],
      "text/plain": [
       "          drug                             disease classification notes  \\\n",
       "0     Abacavir  acquired immunodeficiency syndrome             DM   NaN   \n",
       "1  Abiraterone                     prostate cancer             DM   NaN   \n",
       "2  Acamprosate                  alcohol dependence             DM   NaN   \n",
       "3     Acarbose            type 2 diabetes mellitus            SYM   NaN   \n",
       "4   Acebutolol                        hypertension            SYM   NaN   \n",
       "\n",
       "                               drug_url  \\\n",
       "0  http://www.drugbank.ca/drugs/DB01048   \n",
       "1  http://www.drugbank.ca/drugs/DB05812   \n",
       "2  http://www.drugbank.ca/drugs/DB00659   \n",
       "3  http://www.drugbank.ca/drugs/DB00284   \n",
       "4  http://www.drugbank.ca/drugs/DB01193   \n",
       "\n",
       "                                         disease_url  \n",
       "0    http://www.disease-ontology.org/term/DOID%3A635  \n",
       "1  http://www.disease-ontology.org/term/DOID%3A10283  \n",
       "2  http://www.disease-ontology.org/term/DOID%3A00...  \n",
       "3   http://www.disease-ontology.org/term/DOID%3A9352  \n",
       "4  http://www.disease-ontology.org/term/DOID%3A10763  "
      ]
     },
     "execution_count": 3,
     "metadata": {},
     "output_type": "execute_result"
    }
   ],
   "source": [
    "ajg_df.head()"
   ]
  },
  {
   "cell_type": "code",
   "execution_count": 4,
   "metadata": {
    "collapsed": false
   },
   "outputs": [
    {
     "data": {
      "text/plain": [
       "1388"
      ]
     },
     "execution_count": 4,
     "metadata": {},
     "output_type": "execute_result"
    }
   ],
   "source": [
    "len(ajg_df)"
   ]
  },
  {
   "cell_type": "code",
   "execution_count": 5,
   "metadata": {
    "collapsed": false
   },
   "outputs": [
    {
     "data": {
      "text/plain": [
       "DM     599\n",
       "SYM    514\n",
       "NOT    275\n",
       "Name: classification, dtype: int64"
      ]
     },
     "execution_count": 5,
     "metadata": {},
     "output_type": "execute_result"
    }
   ],
   "source": [
    "ajg_df.classification.value_counts(dropna=False)"
   ]
  },
  {
   "cell_type": "code",
   "execution_count": 6,
   "metadata": {
    "collapsed": true
   },
   "outputs": [],
   "source": [
    "ajg_df.to_csv('curation-AJG.tsv', index=False, sep='\\t')"
   ]
  }
 ],
 "metadata": {
  "kernelspec": {
   "display_name": "Python 3",
   "language": "python",
   "name": "python3"
  },
  "language_info": {
   "codemirror_mode": {
    "name": "ipython",
    "version": 3
   },
   "file_extension": ".py",
   "mimetype": "text/x-python",
   "name": "python",
   "nbconvert_exporter": "python",
   "pygments_lexer": "ipython3",
   "version": "3.5.1"
  }
 },
 "nbformat": 4,
 "nbformat_minor": 0
}
