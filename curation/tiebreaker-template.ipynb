{
 "cells": [
  {
   "cell_type": "markdown",
   "metadata": {},
   "source": [
    "# Combine curations of CSH and AJG and prepare PK template"
   ]
  },
  {
   "cell_type": "code",
   "execution_count": 1,
   "metadata": {
    "collapsed": true
   },
   "outputs": [],
   "source": [
    "import pandas\n",
    "import sklearn.metrics"
   ]
  },
  {
   "cell_type": "code",
   "execution_count": 2,
   "metadata": {
    "collapsed": true
   },
   "outputs": [],
   "source": [
    "ajg_df = pandas.read_table('ajg/curation-AJG.tsv')\n",
    "csh_df = pandas.read_csv('csh/curation-CSH.csv')\n",
    "for initials, df in ('AJG', ajg_df), ('CSH', csh_df):\n",
    "    df.rename(columns={'classification': initials, 'notes': initials + '_notes'}, inplace=True)"
   ]
  },
  {
   "cell_type": "code",
   "execution_count": 3,
   "metadata": {
    "collapsed": false
   },
   "outputs": [],
   "source": [
    "template_df = csh_df.merge(ajg_df)"
   ]
  },
  {
   "cell_type": "code",
   "execution_count": 4,
   "metadata": {
    "collapsed": false,
    "scrolled": false
   },
   "outputs": [
    {
     "data": {
      "text/plain": [
       "444"
      ]
     },
     "execution_count": 4,
     "metadata": {},
     "output_type": "execute_result"
    }
   ],
   "source": [
    "# Number of disagreements\n",
    "(template_df.AJG != template_df.CSH).sum()"
   ]
  },
  {
   "cell_type": "code",
   "execution_count": 5,
   "metadata": {
    "collapsed": false
   },
   "outputs": [
    {
     "data": {
      "text/plain": [
       "0.49861896320136934"
      ]
     },
     "execution_count": 5,
     "metadata": {},
     "output_type": "execute_result"
    }
   ],
   "source": [
    "# Cohen's Kappa\n",
    "sklearn.metrics.cohen_kappa_score(template_df.AJG, template_df.CSH)"
   ]
  },
  {
   "cell_type": "code",
   "execution_count": 6,
   "metadata": {
    "collapsed": false
   },
   "outputs": [
    {
     "data": {
      "text/html": [
       "<div>\n",
       "<table border=\"1\" class=\"dataframe\">\n",
       "  <thead>\n",
       "    <tr style=\"text-align: right;\">\n",
       "      <th></th>\n",
       "      <th>drug</th>\n",
       "      <th>disease</th>\n",
       "      <th>CSH</th>\n",
       "      <th>CSH_notes</th>\n",
       "      <th>drug_url</th>\n",
       "      <th>disease_url</th>\n",
       "      <th>AJG</th>\n",
       "      <th>AJG_notes</th>\n",
       "    </tr>\n",
       "  </thead>\n",
       "  <tbody>\n",
       "    <tr>\n",
       "      <th>0</th>\n",
       "      <td>Abacavir</td>\n",
       "      <td>acquired immunodeficiency syndrome</td>\n",
       "      <td>DM</td>\n",
       "      <td>NaN</td>\n",
       "      <td>http://www.drugbank.ca/drugs/DB01048</td>\n",
       "      <td>http://www.disease-ontology.org/term/DOID%3A635</td>\n",
       "      <td>DM</td>\n",
       "      <td>NaN</td>\n",
       "    </tr>\n",
       "    <tr>\n",
       "      <th>1</th>\n",
       "      <td>Abiraterone</td>\n",
       "      <td>prostate cancer</td>\n",
       "      <td>DM</td>\n",
       "      <td>NaN</td>\n",
       "      <td>http://www.drugbank.ca/drugs/DB05812</td>\n",
       "      <td>http://www.disease-ontology.org/term/DOID%3A10283</td>\n",
       "      <td>DM</td>\n",
       "      <td>NaN</td>\n",
       "    </tr>\n",
       "    <tr>\n",
       "      <th>2</th>\n",
       "      <td>Acamprosate</td>\n",
       "      <td>alcohol dependence</td>\n",
       "      <td>DM</td>\n",
       "      <td>(works as well as naltrexone)</td>\n",
       "      <td>http://www.drugbank.ca/drugs/DB00659</td>\n",
       "      <td>http://www.disease-ontology.org/term/DOID%3A00...</td>\n",
       "      <td>DM</td>\n",
       "      <td>NaN</td>\n",
       "    </tr>\n",
       "    <tr>\n",
       "      <th>3</th>\n",
       "      <td>Acarbose</td>\n",
       "      <td>type 2 diabetes mellitus</td>\n",
       "      <td>DM</td>\n",
       "      <td>(glucosidase inhibitor)</td>\n",
       "      <td>http://www.drugbank.ca/drugs/DB00284</td>\n",
       "      <td>http://www.disease-ontology.org/term/DOID%3A9352</td>\n",
       "      <td>SYM</td>\n",
       "      <td>NaN</td>\n",
       "    </tr>\n",
       "    <tr>\n",
       "      <th>4</th>\n",
       "      <td>Acebutolol</td>\n",
       "      <td>hypertension</td>\n",
       "      <td>DM</td>\n",
       "      <td>(cardioselective beta blocker</td>\n",
       "      <td>http://www.drugbank.ca/drugs/DB01193</td>\n",
       "      <td>http://www.disease-ontology.org/term/DOID%3A10763</td>\n",
       "      <td>SYM</td>\n",
       "      <td>NaN</td>\n",
       "    </tr>\n",
       "  </tbody>\n",
       "</table>\n",
       "</div>"
      ],
      "text/plain": [
       "          drug                             disease CSH  \\\n",
       "0     Abacavir  acquired immunodeficiency syndrome  DM   \n",
       "1  Abiraterone                     prostate cancer  DM   \n",
       "2  Acamprosate                  alcohol dependence  DM   \n",
       "3     Acarbose            type 2 diabetes mellitus  DM   \n",
       "4   Acebutolol                        hypertension  DM   \n",
       "\n",
       "                        CSH_notes                              drug_url  \\\n",
       "0                             NaN  http://www.drugbank.ca/drugs/DB01048   \n",
       "1                             NaN  http://www.drugbank.ca/drugs/DB05812   \n",
       "2   (works as well as naltrexone)  http://www.drugbank.ca/drugs/DB00659   \n",
       "3         (glucosidase inhibitor)  http://www.drugbank.ca/drugs/DB00284   \n",
       "4   (cardioselective beta blocker  http://www.drugbank.ca/drugs/DB01193   \n",
       "\n",
       "                                         disease_url  AJG AJG_notes  \n",
       "0    http://www.disease-ontology.org/term/DOID%3A635   DM       NaN  \n",
       "1  http://www.disease-ontology.org/term/DOID%3A10283   DM       NaN  \n",
       "2  http://www.disease-ontology.org/term/DOID%3A00...   DM       NaN  \n",
       "3   http://www.disease-ontology.org/term/DOID%3A9352  SYM       NaN  \n",
       "4  http://www.disease-ontology.org/term/DOID%3A10763  SYM       NaN  "
      ]
     },
     "execution_count": 6,
     "metadata": {},
     "output_type": "execute_result"
    }
   ],
   "source": [
    "template_df.head()"
   ]
  },
  {
   "cell_type": "code",
   "execution_count": 7,
   "metadata": {
    "collapsed": true
   },
   "outputs": [],
   "source": [
    "template_df['PK'] = ''\n",
    "template_df['PK_notes'] = ''\n",
    "template_df['tie'] = template_df.CSH != template_df.AJG\n",
    "template_df = template_df[['drug', 'disease', 'CSH', 'AJG', 'PK', 'CSH_notes', 'AJG_notes', 'PK_notes', 'drug_url', 'disease_url', 'tie']]\n",
    "template_df = template_df.sort_values(['tie', 'drug', 'disease'], ascending=[0, 1, 1])"
   ]
  },
  {
   "cell_type": "code",
   "execution_count": 8,
   "metadata": {
    "collapsed": false
   },
   "outputs": [
    {
     "data": {
      "text/html": [
       "<div>\n",
       "<table border=\"1\" class=\"dataframe\">\n",
       "  <thead>\n",
       "    <tr style=\"text-align: right;\">\n",
       "      <th></th>\n",
       "      <th>drug</th>\n",
       "      <th>disease</th>\n",
       "      <th>CSH</th>\n",
       "      <th>AJG</th>\n",
       "      <th>PK</th>\n",
       "      <th>CSH_notes</th>\n",
       "      <th>AJG_notes</th>\n",
       "      <th>PK_notes</th>\n",
       "      <th>drug_url</th>\n",
       "      <th>disease_url</th>\n",
       "      <th>tie</th>\n",
       "    </tr>\n",
       "  </thead>\n",
       "  <tbody>\n",
       "    <tr>\n",
       "      <th>3</th>\n",
       "      <td>Acarbose</td>\n",
       "      <td>type 2 diabetes mellitus</td>\n",
       "      <td>DM</td>\n",
       "      <td>SYM</td>\n",
       "      <td></td>\n",
       "      <td>(glucosidase inhibitor)</td>\n",
       "      <td>NaN</td>\n",
       "      <td></td>\n",
       "      <td>http://www.drugbank.ca/drugs/DB00284</td>\n",
       "      <td>http://www.disease-ontology.org/term/DOID%3A9352</td>\n",
       "      <td>True</td>\n",
       "    </tr>\n",
       "    <tr>\n",
       "      <th>4</th>\n",
       "      <td>Acebutolol</td>\n",
       "      <td>hypertension</td>\n",
       "      <td>DM</td>\n",
       "      <td>SYM</td>\n",
       "      <td></td>\n",
       "      <td>(cardioselective beta blocker</td>\n",
       "      <td>NaN</td>\n",
       "      <td></td>\n",
       "      <td>http://www.drugbank.ca/drugs/DB01193</td>\n",
       "      <td>http://www.disease-ontology.org/term/DOID%3A10763</td>\n",
       "      <td>True</td>\n",
       "    </tr>\n",
       "    <tr>\n",
       "      <th>7</th>\n",
       "      <td>Acetazolamide</td>\n",
       "      <td>epilepsy syndrome</td>\n",
       "      <td>NOT</td>\n",
       "      <td>SYM</td>\n",
       "      <td></td>\n",
       "      <td>hm. Can be used for seizures but not great drug</td>\n",
       "      <td>NaN</td>\n",
       "      <td></td>\n",
       "      <td>http://www.drugbank.ca/drugs/DB00819</td>\n",
       "      <td>http://www.disease-ontology.org/term/DOID%3A1826</td>\n",
       "      <td>True</td>\n",
       "    </tr>\n",
       "    <tr>\n",
       "      <th>13</th>\n",
       "      <td>Acetylsalicylic acid</td>\n",
       "      <td>gout</td>\n",
       "      <td>NOT</td>\n",
       "      <td>SYM</td>\n",
       "      <td></td>\n",
       "      <td>not indicated. Asa can increase risk of gout</td>\n",
       "      <td>NaN</td>\n",
       "      <td></td>\n",
       "      <td>http://www.drugbank.ca/drugs/DB00945</td>\n",
       "      <td>http://www.disease-ontology.org/term/DOID%3A13189</td>\n",
       "      <td>True</td>\n",
       "    </tr>\n",
       "    <tr>\n",
       "      <th>16</th>\n",
       "      <td>Acetylsalicylic acid</td>\n",
       "      <td>osteoarthritis</td>\n",
       "      <td>SYM</td>\n",
       "      <td>DM</td>\n",
       "      <td></td>\n",
       "      <td>NaN</td>\n",
       "      <td>NaN</td>\n",
       "      <td></td>\n",
       "      <td>http://www.drugbank.ca/drugs/DB00945</td>\n",
       "      <td>http://www.disease-ontology.org/term/DOID%3A8398</td>\n",
       "      <td>True</td>\n",
       "    </tr>\n",
       "  </tbody>\n",
       "</table>\n",
       "</div>"
      ],
      "text/plain": [
       "                    drug                   disease  CSH  AJG PK  \\\n",
       "3               Acarbose  type 2 diabetes mellitus   DM  SYM      \n",
       "4             Acebutolol              hypertension   DM  SYM      \n",
       "7          Acetazolamide         epilepsy syndrome  NOT  SYM      \n",
       "13  Acetylsalicylic acid                      gout  NOT  SYM      \n",
       "16  Acetylsalicylic acid            osteoarthritis  SYM   DM      \n",
       "\n",
       "                                          CSH_notes AJG_notes PK_notes  \\\n",
       "3                           (glucosidase inhibitor)       NaN            \n",
       "4                     (cardioselective beta blocker       NaN            \n",
       "7   hm. Can be used for seizures but not great drug       NaN            \n",
       "13     not indicated. Asa can increase risk of gout       NaN            \n",
       "16                                              NaN       NaN            \n",
       "\n",
       "                                drug_url  \\\n",
       "3   http://www.drugbank.ca/drugs/DB00284   \n",
       "4   http://www.drugbank.ca/drugs/DB01193   \n",
       "7   http://www.drugbank.ca/drugs/DB00819   \n",
       "13  http://www.drugbank.ca/drugs/DB00945   \n",
       "16  http://www.drugbank.ca/drugs/DB00945   \n",
       "\n",
       "                                          disease_url   tie  \n",
       "3    http://www.disease-ontology.org/term/DOID%3A9352  True  \n",
       "4   http://www.disease-ontology.org/term/DOID%3A10763  True  \n",
       "7    http://www.disease-ontology.org/term/DOID%3A1826  True  \n",
       "13  http://www.disease-ontology.org/term/DOID%3A13189  True  \n",
       "16   http://www.disease-ontology.org/term/DOID%3A8398  True  "
      ]
     },
     "execution_count": 8,
     "metadata": {},
     "output_type": "execute_result"
    }
   ],
   "source": [
    "template_df.head()"
   ]
  },
  {
   "cell_type": "code",
   "execution_count": 9,
   "metadata": {
    "collapsed": true
   },
   "outputs": [],
   "source": [
    "template_df.to_csv('pk/template-pk.tsv', sep='\\t', index=False)\n",
    "template_df.to_excel('pk/template-pk.xlsx', sheet_name='curation', index=False)"
   ]
  }
 ],
 "metadata": {
  "kernelspec": {
   "display_name": "Python 3",
   "language": "python",
   "name": "python3"
  },
  "language_info": {
   "codemirror_mode": {
    "name": "ipython",
    "version": 3
   },
   "file_extension": ".py",
   "mimetype": "text/x-python",
   "name": "python",
   "nbconvert_exporter": "python",
   "pygments_lexer": "ipython3",
   "version": "3.5.1"
  }
 },
 "nbformat": 4,
 "nbformat_minor": 0
}
