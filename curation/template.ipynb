{
 "cells": [
  {
   "cell_type": "markdown",
   "metadata": {},
   "source": [
    "# Pre-populate classifications and notes from pilot"
   ]
  },
  {
   "cell_type": "code",
   "execution_count": 1,
   "metadata": {
    "collapsed": true
   },
   "outputs": [],
   "source": [
    "import pandas"
   ]
  },
  {
   "cell_type": "code",
   "execution_count": 2,
   "metadata": {
    "collapsed": true
   },
   "outputs": [],
   "source": [
    "curators = 'ajg', 'csh'"
   ]
  },
  {
   "cell_type": "code",
   "execution_count": 3,
   "metadata": {
    "collapsed": false
   },
   "outputs": [],
   "source": [
    "template_df = pandas.read_table('template.tsv')\n",
    "\n",
    "pilot_dfs = dict()\n",
    "for curator in curators:\n",
    "    pilot_dfs[curator] = pandas.read_table('pilot/{}.tsv'.format(curator))\n",
    "\n",
    "pilot_df = pandas.read_table('pilot/combined.tsv')\n",
    "pilot_df = pilot_df[['drug', 'disease', 'ajg']]"
   ]
  },
  {
   "cell_type": "code",
   "execution_count": 4,
   "metadata": {
    "collapsed": false
   },
   "outputs": [],
   "source": [
    "for curator, df in pilot_dfs.items():\n",
    "    df['pilot_notes'] = 'Pilot classification: ' + df.classification.fillna('') + '; Pilot notes: ' + df.notes.fillna('')\n",
    "    df = pilot_df.merge(df[['drug', 'disease', 'pilot_notes']])\n",
    "    df = df.rename(columns={'ajg': 'classification', 'pilot_notes': 'notes'})\n",
    "    df = template_df[['drug', 'disease', 'drug_url', 'disease_url']].merge(df, how='left')\n",
    "    df = df[template_df.columns]\n",
    "    path = 'template-{}.tsv'.format(curator)\n",
    "    df.to_csv(path, index=False, sep='\\t')\n",
    "    path = 'template-{}.xlsx'.format(curator)\n",
    "    df.to_excel(path, index=False, sheet_name='catalog')"
   ]
  }
 ],
 "metadata": {
  "kernelspec": {
   "display_name": "Python 3",
   "language": "python",
   "name": "python3"
  },
  "language_info": {
   "codemirror_mode": {
    "name": "ipython",
    "version": 3
   },
   "file_extension": ".py",
   "mimetype": "text/x-python",
   "name": "python",
   "nbconvert_exporter": "python",
   "pygments_lexer": "ipython3",
   "version": "3.4.3"
  }
 },
 "nbformat": 4,
 "nbformat_minor": 0
}
