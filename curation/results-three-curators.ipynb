{
 "cells": [
  {
   "cell_type": "markdown",
   "metadata": {},
   "source": [
    "# Process the curation results from all three curators\n",
    "\n",
    "See the corresponding [Thinklab discussion](http://doi.org/10.15363/thinklab.d95#10)."
   ]
  },
  {
   "cell_type": "code",
   "execution_count": 1,
   "metadata": {
    "collapsed": true
   },
   "outputs": [],
   "source": [
    "import itertools\n",
    "\n",
    "import pandas\n",
    "import sklearn.metrics"
   ]
  },
  {
   "cell_type": "code",
   "execution_count": 2,
   "metadata": {
    "collapsed": true
   },
   "outputs": [],
   "source": [
    "id_vars = ['doid_id', 'drugbank_id']\n",
    "name_vars = ['disease', 'drug']\n",
    "initials = ['AJG', 'CSH', 'PK']\n",
    "categories = ['DM', 'SYM', 'NOT']\n",
    "notes = [x + '_notes' for x in initials]"
   ]
  },
  {
   "cell_type": "markdown",
   "metadata": {},
   "source": [
    "## Read and process PK curation"
   ]
  },
  {
   "cell_type": "code",
   "execution_count": 3,
   "metadata": {
    "collapsed": false
   },
   "outputs": [
    {
     "data": {
      "text/html": [
       "<div>\n",
       "<table border=\"1\" class=\"dataframe\">\n",
       "  <thead>\n",
       "    <tr style=\"text-align: right;\">\n",
       "      <th></th>\n",
       "      <th>disease</th>\n",
       "      <th>drug</th>\n",
       "      <th>AJG</th>\n",
       "      <th>CSH</th>\n",
       "      <th>PK</th>\n",
       "      <th>AJG_notes</th>\n",
       "      <th>CSH_notes</th>\n",
       "      <th>PK_notes</th>\n",
       "      <th>doid_id</th>\n",
       "      <th>drugbank_id</th>\n",
       "      <th>majority</th>\n",
       "    </tr>\n",
       "  </thead>\n",
       "  <tbody>\n",
       "    <tr>\n",
       "      <th>1042</th>\n",
       "      <td>vitiligo</td>\n",
       "      <td>Methoxsalen</td>\n",
       "      <td>DM</td>\n",
       "      <td>DM</td>\n",
       "      <td>DM</td>\n",
       "      <td>NaN</td>\n",
       "      <td>NaN</td>\n",
       "      <td>NaN</td>\n",
       "      <td>DOID:12306</td>\n",
       "      <td>DB00553</td>\n",
       "      <td>DM</td>\n",
       "    </tr>\n",
       "    <tr>\n",
       "      <th>273</th>\n",
       "      <td>vitiligo</td>\n",
       "      <td>Monobenzone</td>\n",
       "      <td>DM</td>\n",
       "      <td>SYM</td>\n",
       "      <td>SYM</td>\n",
       "      <td>NaN</td>\n",
       "      <td>NaN</td>\n",
       "      <td>NaN</td>\n",
       "      <td>DOID:12306</td>\n",
       "      <td>DB00600</td>\n",
       "      <td>SYM</td>\n",
       "    </tr>\n",
       "  </tbody>\n",
       "</table>\n",
       "</div>"
      ],
      "text/plain": [
       "       disease         drug AJG  CSH   PK AJG_notes CSH_notes PK_notes  \\\n",
       "1042  vitiligo  Methoxsalen  DM   DM   DM       NaN       NaN      NaN   \n",
       "273   vitiligo  Monobenzone  DM  SYM  SYM       NaN       NaN      NaN   \n",
       "\n",
       "         doid_id drugbank_id majority  \n",
       "1042  DOID:12306     DB00553       DM  \n",
       "273   DOID:12306     DB00600      SYM  "
      ]
     },
     "execution_count": 3,
     "metadata": {},
     "output_type": "execute_result"
    }
   ],
   "source": [
    "pk_df = pandas.read_excel('pk/template-pk final.xlsx', sheetname='curation')\n",
    "pk_df.to_csv('pk/curation-PK.tsv', index=False, sep='\\t')\n",
    "res_df = pk_df.copy()\n",
    "res_df['drugbank_id'] = res_df.drug_url.map(lambda x: x.rsplit('/', 1)[-1])\n",
    "res_df['doid_id'] = res_df.disease_url.map(lambda x: x.rsplit('/', 1)[-1].replace('%3A', ':'))\n",
    "res_df = res_df[name_vars + initials + notes + id_vars]\n",
    "res_df = res_df.sort_values(['disease', 'drug'])\n",
    "res_df['majority'] = res_df[initials].mode('columns')\n",
    "res_df.to_csv('results-three-curators.tsv', index=False, sep='\\t')\n",
    "res_df.tail(2)"
   ]
  },
  {
   "cell_type": "code",
   "execution_count": 4,
   "metadata": {
    "collapsed": false
   },
   "outputs": [
    {
     "data": {
      "text/plain": [
       "124"
      ]
     },
     "execution_count": 4,
     "metadata": {},
     "output_type": "execute_result"
    }
   ],
   "source": [
    "pk_minority_df = res_df[res_df.majority.notnull() & (res_df.PK != res_df.majority)]\n",
    "pk_minority_df.to_csv('results-PK-changes.tsv', index=False, sep='\\t')\n",
    "len(pk_minority_df)"
   ]
  },
  {
   "cell_type": "code",
   "execution_count": 5,
   "metadata": {
    "collapsed": false
   },
   "outputs": [
    {
     "data": {
      "text/plain": [
       "34"
      ]
     },
     "execution_count": 5,
     "metadata": {},
     "output_type": "execute_result"
    }
   ],
   "source": [
    "# All three curators disagree\n",
    "disagree_df = res_df[res_df.majority.isnull()]\n",
    "disagree_df.to_csv('results-threeway-disagreements.tsv', index=False, sep='\\t')\n",
    "len(disagree_df)"
   ]
  },
  {
   "cell_type": "markdown",
   "metadata": {},
   "source": [
    "## Curator agreement"
   ]
  },
  {
   "cell_type": "code",
   "execution_count": 6,
   "metadata": {
    "collapsed": false,
    "scrolled": true
   },
   "outputs": [
    {
     "data": {
      "text/html": [
       "<div>\n",
       "<table border=\"1\" class=\"dataframe\">\n",
       "  <thead>\n",
       "    <tr style=\"text-align: right;\">\n",
       "      <th></th>\n",
       "      <th>curator_a</th>\n",
       "      <th>curator_b</th>\n",
       "      <th>kappa</th>\n",
       "    </tr>\n",
       "  </thead>\n",
       "  <tbody>\n",
       "    <tr>\n",
       "      <th>0</th>\n",
       "      <td>AJG</td>\n",
       "      <td>CSH</td>\n",
       "      <td>0.498619</td>\n",
       "    </tr>\n",
       "    <tr>\n",
       "      <th>1</th>\n",
       "      <td>AJG</td>\n",
       "      <td>PK</td>\n",
       "      <td>0.514723</td>\n",
       "    </tr>\n",
       "    <tr>\n",
       "      <th>2</th>\n",
       "      <td>CSH</td>\n",
       "      <td>PK</td>\n",
       "      <td>0.651177</td>\n",
       "    </tr>\n",
       "  </tbody>\n",
       "</table>\n",
       "</div>"
      ],
      "text/plain": [
       "  curator_a curator_b     kappa\n",
       "0       AJG       CSH  0.498619\n",
       "1       AJG        PK  0.514723\n",
       "2       CSH        PK  0.651177"
      ]
     },
     "execution_count": 6,
     "metadata": {},
     "output_type": "execute_result"
    }
   ],
   "source": [
    "# Cohen's Kappa\n",
    "rows = list()\n",
    "for a, b in itertools.combinations(initials, 2):\n",
    "    kappa = sklearn.metrics.cohen_kappa_score(pk_df[a], pk_df[b])\n",
    "    rows.append((a, b, kappa))\n",
    "kappa_df = pandas.DataFrame(rows, columns=['curator_a', 'curator_b', 'kappa'])\n",
    "kappa_df"
   ]
  },
  {
   "cell_type": "markdown",
   "metadata": {},
   "source": [
    "## Resource breakdown by PK curation"
   ]
  },
  {
   "cell_type": "code",
   "execution_count": 7,
   "metadata": {
    "collapsed": false
   },
   "outputs": [
    {
     "data": {
      "text/html": [
       "<div>\n",
       "<table border=\"1\" class=\"dataframe\">\n",
       "  <thead>\n",
       "    <tr style=\"text-align: right;\">\n",
       "      <th></th>\n",
       "      <th>doid_id</th>\n",
       "      <th>drugbank_id</th>\n",
       "      <th>disease</th>\n",
       "      <th>drug</th>\n",
       "      <th>curator</th>\n",
       "      <th>classification</th>\n",
       "      <th>resource</th>\n",
       "    </tr>\n",
       "  </thead>\n",
       "  <tbody>\n",
       "    <tr>\n",
       "      <th>0</th>\n",
       "      <td>DOID:10652</td>\n",
       "      <td>DB00245</td>\n",
       "      <td>Alzheimer's disease</td>\n",
       "      <td>Benzatropine</td>\n",
       "      <td>AJG</td>\n",
       "      <td>SYM</td>\n",
       "      <td>predict</td>\n",
       "    </tr>\n",
       "    <tr>\n",
       "      <th>1</th>\n",
       "      <td>DOID:10652</td>\n",
       "      <td>DB00245</td>\n",
       "      <td>Alzheimer's disease</td>\n",
       "      <td>Benzatropine</td>\n",
       "      <td>CSH</td>\n",
       "      <td>SYM</td>\n",
       "      <td>predict</td>\n",
       "    </tr>\n",
       "  </tbody>\n",
       "</table>\n",
       "</div>"
      ],
      "text/plain": [
       "      doid_id drugbank_id              disease          drug curator  \\\n",
       "0  DOID:10652     DB00245  Alzheimer's disease  Benzatropine     AJG   \n",
       "1  DOID:10652     DB00245  Alzheimer's disease  Benzatropine     CSH   \n",
       "\n",
       "  classification resource  \n",
       "0            SYM  predict  \n",
       "1            SYM  predict  "
      ]
     },
     "execution_count": 7,
     "metadata": {},
     "output_type": "execute_result"
    }
   ],
   "source": [
    "source_df = pandas.read_table('../data/indications-slim-verbose.tsv')\n",
    "source_df = source_df.rename(columns={'do_slim_id': 'doid_id'})\n",
    "source_df = source_df[['drugbank_id', 'doid_id', 'resource']].drop_duplicates()\n",
    "melt_df = pandas.melt(res_df, id_vars=id_vars + name_vars, value_vars=initials, var_name='curator', value_name='classification')\n",
    "source_df = melt_df.merge(source_df)\n",
    "#source_df.groupby(['curator', 'classification', 'resource']).apply(lambda df: pandas.Series({'count': len(df)})).reset_index()\n",
    "source_df.head(2)"
   ]
  },
  {
   "cell_type": "code",
   "execution_count": 8,
   "metadata": {
    "collapsed": false
   },
   "outputs": [
    {
     "data": {
      "text/html": [
       "<div>\n",
       "<table border=\"1\" class=\"dataframe\">\n",
       "  <thead>\n",
       "    <tr style=\"text-align: right;\">\n",
       "      <th>classification</th>\n",
       "      <th>DM</th>\n",
       "      <th>SYM</th>\n",
       "      <th>NOT</th>\n",
       "    </tr>\n",
       "    <tr>\n",
       "      <th>resource</th>\n",
       "      <th></th>\n",
       "      <th></th>\n",
       "      <th></th>\n",
       "    </tr>\n",
       "  </thead>\n",
       "  <tbody>\n",
       "    <tr>\n",
       "      <th>medi_hps</th>\n",
       "      <td>532</td>\n",
       "      <td>168</td>\n",
       "      <td>93</td>\n",
       "    </tr>\n",
       "    <tr>\n",
       "      <th>predict</th>\n",
       "      <td>346</td>\n",
       "      <td>158</td>\n",
       "      <td>76</td>\n",
       "    </tr>\n",
       "    <tr>\n",
       "      <th>ehrlink</th>\n",
       "      <td>205</td>\n",
       "      <td>163</td>\n",
       "      <td>95</td>\n",
       "    </tr>\n",
       "    <tr>\n",
       "      <th>labeledin</th>\n",
       "      <td>183</td>\n",
       "      <td>72</td>\n",
       "      <td>22</td>\n",
       "    </tr>\n",
       "    <tr>\n",
       "      <th>medi_lps</th>\n",
       "      <td>174</td>\n",
       "      <td>50</td>\n",
       "      <td>45</td>\n",
       "    </tr>\n",
       "  </tbody>\n",
       "</table>\n",
       "</div>"
      ],
      "text/plain": [
       "classification   DM  SYM  NOT\n",
       "resource                     \n",
       "medi_hps        532  168   93\n",
       "predict         346  158   76\n",
       "ehrlink         205  163   95\n",
       "labeledin       183   72   22\n",
       "medi_lps        174   50   45"
      ]
     },
     "execution_count": 8,
     "metadata": {},
     "output_type": "execute_result"
    }
   ],
   "source": [
    "# Find the categorical breakdown by resource of PK's curation\n",
    "pk_source_df = source_df.query(\"curator == 'PK'\")\n",
    "source_table = pandas.crosstab(pk_source_df.resource, pk_source_df.classification)[categories]\n",
    "source_table.sort_values('DM', ascending=False)"
   ]
  },
  {
   "cell_type": "code",
   "execution_count": 9,
   "metadata": {
    "collapsed": false
   },
   "outputs": [
    {
     "data": {
      "text/plain": [
       "resource\n",
       "ehrlink      463\n",
       "labeledin    277\n",
       "medi_hps     793\n",
       "medi_lps     269\n",
       "predict      580\n",
       "dtype: int64"
      ]
     },
     "execution_count": 9,
     "metadata": {},
     "output_type": "execute_result"
    }
   ],
   "source": [
    "# Indications per resource\n",
    "source_table.sum('columns')"
   ]
  },
  {
   "cell_type": "code",
   "execution_count": 10,
   "metadata": {
    "collapsed": false
   },
   "outputs": [
    {
     "data": {
      "text/html": [
       "<div>\n",
       "<table border=\"1\" class=\"dataframe\">\n",
       "  <thead>\n",
       "    <tr style=\"text-align: right;\">\n",
       "      <th></th>\n",
       "      <th>DM</th>\n",
       "      <th>SYM</th>\n",
       "      <th>NOT</th>\n",
       "    </tr>\n",
       "    <tr>\n",
       "      <th>resource</th>\n",
       "      <th></th>\n",
       "      <th></th>\n",
       "      <th></th>\n",
       "    </tr>\n",
       "  </thead>\n",
       "  <tbody>\n",
       "    <tr>\n",
       "      <th>medi_hps</th>\n",
       "      <td>67.1</td>\n",
       "      <td>21.2</td>\n",
       "      <td>11.7</td>\n",
       "    </tr>\n",
       "    <tr>\n",
       "      <th>labeledin</th>\n",
       "      <td>66.1</td>\n",
       "      <td>26.0</td>\n",
       "      <td>7.9</td>\n",
       "    </tr>\n",
       "    <tr>\n",
       "      <th>medi_lps</th>\n",
       "      <td>64.7</td>\n",
       "      <td>18.6</td>\n",
       "      <td>16.7</td>\n",
       "    </tr>\n",
       "    <tr>\n",
       "      <th>predict</th>\n",
       "      <td>59.7</td>\n",
       "      <td>27.2</td>\n",
       "      <td>13.1</td>\n",
       "    </tr>\n",
       "    <tr>\n",
       "      <th>ehrlink</th>\n",
       "      <td>44.3</td>\n",
       "      <td>35.2</td>\n",
       "      <td>20.5</td>\n",
       "    </tr>\n",
       "  </tbody>\n",
       "</table>\n",
       "</div>"
      ],
      "text/plain": [
       "             DM   SYM   NOT\n",
       "resource                   \n",
       "medi_hps   67.1  21.2  11.7\n",
       "labeledin  66.1  26.0   7.9\n",
       "medi_lps   64.7  18.6  16.7\n",
       "predict    59.7  27.2  13.1\n",
       "ehrlink    44.3  35.2  20.5"
      ]
     },
     "execution_count": 10,
     "metadata": {},
     "output_type": "execute_result"
    }
   ],
   "source": [
    "# Percent breakdown by resource\n",
    "(source_table.divide(source_table.sum('columns'), 'rows') * 100).sort_values('DM', ascending=False).round(1)"
   ]
  }
 ],
 "metadata": {
  "kernelspec": {
   "display_name": "Python 3",
   "language": "python",
   "name": "python3"
  },
  "language_info": {
   "codemirror_mode": {
    "name": "ipython",
    "version": 3
   },
   "file_extension": ".py",
   "mimetype": "text/x-python",
   "name": "python",
   "nbconvert_exporter": "python",
   "pygments_lexer": "ipython3",
   "version": "3.5.1"
  }
 },
 "nbformat": 4,
 "nbformat_minor": 0
}
