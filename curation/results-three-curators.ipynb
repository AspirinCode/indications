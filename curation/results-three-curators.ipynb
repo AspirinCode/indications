{
 "cells": [
  {
   "cell_type": "markdown",
   "metadata": {},
   "source": [
    "# Process the curation results from all three curators\n",
    "\n",
    "See the corresponding [Thinklab discussion](http://doi.org/10.15363/thinklab.d95#10)."
   ]
  },
  {
   "cell_type": "code",
   "execution_count": 1,
   "metadata": {
    "collapsed": true
   },
   "outputs": [],
   "source": [
    "import itertools\n",
    "\n",
    "import pandas\n",
    "import sklearn.metrics"
   ]
  },
  {
   "cell_type": "code",
   "execution_count": 2,
   "metadata": {
    "collapsed": true
   },
   "outputs": [],
   "source": [
    "id_vars = ['doid_id', 'drugbank_id']\n",
    "name_vars = ['disease', 'drug']\n",
    "initials = ['AJG', 'CSH', 'PK']\n",
    "categories = ['DM', 'SYM', 'NOT']\n",
    "notes = [x + '_notes' for x in initials]"
   ]
  },
  {
   "cell_type": "markdown",
   "metadata": {},
   "source": [
    "## Read and process PK curation"
   ]
  },
  {
   "cell_type": "code",
   "execution_count": 3,
   "metadata": {
    "collapsed": false
   },
   "outputs": [
    {
     "data": {
      "text/html": [
       "<div>\n",
       "<table border=\"1\" class=\"dataframe\">\n",
       "  <thead>\n",
       "    <tr style=\"text-align: right;\">\n",
       "      <th></th>\n",
       "      <th>disease</th>\n",
       "      <th>drug</th>\n",
       "      <th>AJG</th>\n",
       "      <th>CSH</th>\n",
       "      <th>PK</th>\n",
       "      <th>AJG_notes</th>\n",
       "      <th>CSH_notes</th>\n",
       "      <th>PK_notes</th>\n",
       "      <th>doid_id</th>\n",
       "      <th>drugbank_id</th>\n",
       "      <th>majority</th>\n",
       "    </tr>\n",
       "  </thead>\n",
       "  <tbody>\n",
       "    <tr>\n",
       "      <th>1042</th>\n",
       "      <td>vitiligo</td>\n",
       "      <td>Methoxsalen</td>\n",
       "      <td>DM</td>\n",
       "      <td>DM</td>\n",
       "      <td>DM</td>\n",
       "      <td>NaN</td>\n",
       "      <td>NaN</td>\n",
       "      <td>NaN</td>\n",
       "      <td>DOID:12306</td>\n",
       "      <td>DB00553</td>\n",
       "      <td>DM</td>\n",
       "    </tr>\n",
       "    <tr>\n",
       "      <th>273</th>\n",
       "      <td>vitiligo</td>\n",
       "      <td>Monobenzone</td>\n",
       "      <td>DM</td>\n",
       "      <td>SYM</td>\n",
       "      <td>SYM</td>\n",
       "      <td>NaN</td>\n",
       "      <td>NaN</td>\n",
       "      <td>NaN</td>\n",
       "      <td>DOID:12306</td>\n",
       "      <td>DB00600</td>\n",
       "      <td>SYM</td>\n",
       "    </tr>\n",
       "  </tbody>\n",
       "</table>\n",
       "</div>"
      ],
      "text/plain": [
       "       disease         drug AJG  CSH   PK AJG_notes CSH_notes PK_notes  \\\n",
       "1042  vitiligo  Methoxsalen  DM   DM   DM       NaN       NaN      NaN   \n",
       "273   vitiligo  Monobenzone  DM  SYM  SYM       NaN       NaN      NaN   \n",
       "\n",
       "         doid_id drugbank_id majority  \n",
       "1042  DOID:12306     DB00553       DM  \n",
       "273   DOID:12306     DB00600      SYM  "
      ]
     },
     "execution_count": 3,
     "metadata": {},
     "output_type": "execute_result"
    }
   ],
   "source": [
    "pk_df = pandas.read_excel('pk/template-pk final.xlsx', sheetname='curation')\n",
    "pk_df.to_csv('pk/curation-PK.tsv', index=False, sep='\\t')\n",
    "res_df = pk_df.copy()\n",
    "res_df['drugbank_id'] = res_df.drug_url.map(lambda x: x.rsplit('/', 1)[-1])\n",
    "res_df['doid_id'] = res_df.disease_url.map(lambda x: x.rsplit('/', 1)[-1].replace('%3A', ':'))\n",
    "res_df = res_df[name_vars + initials + notes + id_vars]\n",
    "res_df = res_df.sort_values(['disease', 'drug'])\n",
    "res_df['majority'] = res_df[initials].mode('columns')\n",
    "res_df.to_csv('results-three-curators.tsv', index=False, sep='\\t')\n",
    "res_df.tail(2)"
   ]
  },
  {
   "cell_type": "code",
   "execution_count": 4,
   "metadata": {
    "collapsed": false
   },
   "outputs": [
    {
     "data": {
      "text/plain": [
       "124"
      ]
     },
     "execution_count": 4,
     "metadata": {},
     "output_type": "execute_result"
    }
   ],
   "source": [
    "pk_minority_df = res_df[res_df.majority.notnull() & (res_df.PK != res_df.majority)]\n",
    "pk_minority_df.to_csv('results-PK-changes.tsv', index=False, sep='\\t')\n",
    "len(pk_minority_df)"
   ]
  },
  {
   "cell_type": "code",
   "execution_count": 5,
   "metadata": {
    "collapsed": false
   },
   "outputs": [
    {
     "data": {
      "text/plain": [
       "34"
      ]
     },
     "execution_count": 5,
     "metadata": {},
     "output_type": "execute_result"
    }
   ],
   "source": [
    "# All three curators disagree\n",
    "disagree_df = res_df[res_df.majority.isnull()]\n",
    "disagree_df.to_csv('results-threeway-disagreements.tsv', index=False, sep='\\t')\n",
    "len(disagree_df)"
   ]
  },
  {
   "cell_type": "markdown",
   "metadata": {},
   "source": [
    "## Curator agreement"
   ]
  },
  {
   "cell_type": "code",
   "execution_count": 6,
   "metadata": {
    "collapsed": false,
    "scrolled": true
   },
   "outputs": [
    {
     "data": {
      "text/html": [
       "<div>\n",
       "<table border=\"1\" class=\"dataframe\">\n",
       "  <thead>\n",
       "    <tr style=\"text-align: right;\">\n",
       "      <th></th>\n",
       "      <th>curator_a</th>\n",
       "      <th>curator_b</th>\n",
       "      <th>kappa</th>\n",
       "    </tr>\n",
       "  </thead>\n",
       "  <tbody>\n",
       "    <tr>\n",
       "      <th>0</th>\n",
       "      <td>AJG</td>\n",
       "      <td>CSH</td>\n",
       "      <td>0.498619</td>\n",
       "    </tr>\n",
       "    <tr>\n",
       "      <th>1</th>\n",
       "      <td>AJG</td>\n",
       "      <td>PK</td>\n",
       "      <td>0.514723</td>\n",
       "    </tr>\n",
       "    <tr>\n",
       "      <th>2</th>\n",
       "      <td>CSH</td>\n",
       "      <td>PK</td>\n",
       "      <td>0.651177</td>\n",
       "    </tr>\n",
       "  </tbody>\n",
       "</table>\n",
       "</div>"
      ],
      "text/plain": [
       "  curator_a curator_b     kappa\n",
       "0       AJG       CSH  0.498619\n",
       "1       AJG        PK  0.514723\n",
       "2       CSH        PK  0.651177"
      ]
     },
     "execution_count": 6,
     "metadata": {},
     "output_type": "execute_result"
    }
   ],
   "source": [
    "# Cohen's Kappa\n",
    "rows = list()\n",
    "for a, b in itertools.combinations(initials, 2):\n",
    "    kappa = sklearn.metrics.cohen_kappa_score(pk_df[a], pk_df[b])\n",
    "    rows.append((a, b, kappa))\n",
    "kappa_df = pandas.DataFrame(rows, columns=['curator_a', 'curator_b', 'kappa'])\n",
    "kappa_df"
   ]
  }
 ],
 "metadata": {
  "kernelspec": {
   "display_name": "Python 3",
   "language": "python",
   "name": "python3"
  },
  "language_info": {
   "codemirror_mode": {
    "name": "ipython",
    "version": 3
   },
   "file_extension": ".py",
   "mimetype": "text/x-python",
   "name": "python",
   "nbconvert_exporter": "python",
   "pygments_lexer": "ipython3",
   "version": "3.5.1"
  }
 },
 "nbformat": 4,
 "nbformat_minor": 0
}
