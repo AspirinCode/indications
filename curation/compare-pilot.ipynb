{
 "cells": [
  {
   "cell_type": "markdown",
   "metadata": {},
   "source": [
    "# Evaluating the manual curation of the indication catalog"
   ]
  },
  {
   "cell_type": "code",
   "execution_count": 1,
   "metadata": {
    "collapsed": false
   },
   "outputs": [],
   "source": [
    "import os\n",
    "\n",
    "import pandas"
   ]
  },
  {
   "cell_type": "code",
   "execution_count": 2,
   "metadata": {
    "collapsed": true
   },
   "outputs": [],
   "source": [
    "raw = {}\n",
    "for initials in ['csh']:\n",
    "    path = os.path.join(initials, 'curation-{}.csv'.format(initials.upper()))\n",
    "    df = pandas.read_csv(path)\n",
    "    df = df.dropna(how='all')\n",
    "    raw[initials] = df"
   ]
  },
  {
   "cell_type": "code",
   "execution_count": 3,
   "metadata": {
    "collapsed": false,
    "scrolled": false
   },
   "outputs": [
    {
     "data": {
      "text/html": [
       "<div>\n",
       "<table border=\"1\" class=\"dataframe\">\n",
       "  <thead>\n",
       "    <tr style=\"text-align: right;\">\n",
       "      <th></th>\n",
       "      <th>drug</th>\n",
       "      <th>disease</th>\n",
       "      <th>classification</th>\n",
       "      <th>notes</th>\n",
       "      <th>drug_url</th>\n",
       "      <th>disease_url</th>\n",
       "    </tr>\n",
       "  </thead>\n",
       "  <tbody>\n",
       "    <tr>\n",
       "      <th>1386</th>\n",
       "      <td>Zopiclone</td>\n",
       "      <td>multiple sclerosis</td>\n",
       "      <td>SYM</td>\n",
       "      <td>insomnia</td>\n",
       "      <td>http://www.drugbank.ca/drugs/DB01198</td>\n",
       "      <td>http://www.disease-ontology.org/term/DOID%3A2377</td>\n",
       "    </tr>\n",
       "    <tr>\n",
       "      <th>1387</th>\n",
       "      <td>Zopiclone</td>\n",
       "      <td>schizophrenia</td>\n",
       "      <td>SYM</td>\n",
       "      <td>NaN</td>\n",
       "      <td>http://www.drugbank.ca/drugs/DB01198</td>\n",
       "      <td>http://www.disease-ontology.org/term/DOID%3A5419</td>\n",
       "    </tr>\n",
       "  </tbody>\n",
       "</table>\n",
       "</div>"
      ],
      "text/plain": [
       "           drug             disease classification     notes  \\\n",
       "1386  Zopiclone  multiple sclerosis            SYM  insomnia   \n",
       "1387  Zopiclone       schizophrenia            SYM       NaN   \n",
       "\n",
       "                                  drug_url  \\\n",
       "1386  http://www.drugbank.ca/drugs/DB01198   \n",
       "1387  http://www.drugbank.ca/drugs/DB01198   \n",
       "\n",
       "                                           disease_url  \n",
       "1386  http://www.disease-ontology.org/term/DOID%3A2377  \n",
       "1387  http://www.disease-ontology.org/term/DOID%3A5419  "
      ]
     },
     "execution_count": 3,
     "metadata": {},
     "output_type": "execute_result"
    }
   ],
   "source": [
    "csh_df = raw['csh']\n",
    "csh_df.tail(2)"
   ]
  },
  {
   "cell_type": "code",
   "execution_count": 4,
   "metadata": {
    "collapsed": false
   },
   "outputs": [
    {
     "data": {
      "text/plain": [
       "DM     593\n",
       "SYM    517\n",
       "NOT    278\n",
       "Name: classification, dtype: int64"
      ]
     },
     "execution_count": 4,
     "metadata": {},
     "output_type": "execute_result"
    }
   ],
   "source": [
    "# Classification counts\n",
    "csh_df.classification.value_counts()"
   ]
  },
  {
   "cell_type": "code",
   "execution_count": 5,
   "metadata": {
    "collapsed": false
   },
   "outputs": [
    {
     "data": {
      "text/plain": [
       "DM     0.427233\n",
       "SYM    0.372478\n",
       "NOT    0.200288\n",
       "Name: classification, dtype: float64"
      ]
     },
     "execution_count": 5,
     "metadata": {},
     "output_type": "execute_result"
    }
   ],
   "source": [
    "# Classification counts as percent\n",
    "csh_df.classification.value_counts() / len(csh_df)"
   ]
  },
  {
   "cell_type": "code",
   "execution_count": 6,
   "metadata": {
    "collapsed": true
   },
   "outputs": [],
   "source": [
    "csh_DM_df = csh_df.query('classification == \"DM\"')"
   ]
  },
  {
   "cell_type": "code",
   "execution_count": 7,
   "metadata": {
    "collapsed": false
   },
   "outputs": [
    {
     "data": {
      "text/plain": [
       "hypertension                          61\n",
       "hematologic cancer                    47\n",
       "breast cancer                         33\n",
       "coronary artery disease               22\n",
       "glaucoma                              21\n",
       "asthma                                21\n",
       "prostate cancer                       19\n",
       "psoriasis                             18\n",
       "acquired immunodeficiency syndrome    18\n",
       "lung cancer                           16\n",
       "Name: disease, dtype: int64"
      ]
     },
     "execution_count": 7,
     "metadata": {},
     "output_type": "execute_result"
    }
   ],
   "source": [
    "# Diseases with the most indications\n",
    "disease_counts = csh_DM_df.disease.value_counts()\n",
    "disease_counts.head(10)"
   ]
  },
  {
   "cell_type": "code",
   "execution_count": 8,
   "metadata": {
    "collapsed": false
   },
   "outputs": [
    {
     "data": {
      "text/plain": [
       "0.18055555555555555"
      ]
     },
     "execution_count": 8,
     "metadata": {},
     "output_type": "execute_result"
    }
   ],
   "source": [
    "# Percent of diseases with a single indication\n",
    "(disease_counts == 1).mean()"
   ]
  },
  {
   "cell_type": "code",
   "execution_count": 9,
   "metadata": {
    "collapsed": false
   },
   "outputs": [
    {
     "data": {
      "text/plain": [
       "Methotrexate     19\n",
       "Doxorubicin      18\n",
       "Epirubicin       15\n",
       "Etoposide        11\n",
       "Triamcinolone    10\n",
       "Dactinomycin     10\n",
       "Carboplatin       9\n",
       "Docetaxel         9\n",
       "Cisplatin         8\n",
       "Fluorouracil      7\n",
       "Name: drug, dtype: int64"
      ]
     },
     "execution_count": 9,
     "metadata": {},
     "output_type": "execute_result"
    }
   ],
   "source": [
    "# Compounds with the most indications\n",
    "compound_counts = csh_DM_df.drug.value_counts()\n",
    "compound_counts.head(10)"
   ]
  },
  {
   "cell_type": "code",
   "execution_count": 10,
   "metadata": {
    "collapsed": false
   },
   "outputs": [
    {
     "data": {
      "text/plain": [
       "0.68138801261829651"
      ]
     },
     "execution_count": 10,
     "metadata": {},
     "output_type": "execute_result"
    }
   ],
   "source": [
    "# Percent of compounds with a single indication\n",
    "(compound_counts == 1).mean()"
   ]
  }
 ],
 "metadata": {
  "kernelspec": {
   "display_name": "Python 3",
   "language": "python",
   "name": "python3"
  },
  "language_info": {
   "codemirror_mode": {
    "name": "ipython",
    "version": 3
   },
   "file_extension": ".py",
   "mimetype": "text/x-python",
   "name": "python",
   "nbconvert_exporter": "python",
   "pygments_lexer": "ipython3",
   "version": "3.5.1"
  }
 },
 "nbformat": 4,
 "nbformat_minor": 0
}
