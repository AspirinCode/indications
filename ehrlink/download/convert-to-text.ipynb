{
 "cells": [
  {
   "cell_type": "markdown",
   "metadata": {},
   "source": [
    "# converting the ehrlink pdf data supplement to a tab seperated text\n",
    "\n",
    "This notebook converts the [pdf of indications](http://www.ncbi.nlm.nih.gov/pmc/articles/PMC3422843/bin/amiajnl-2012-000852-s1.pdf) from:\n",
    "\n",
    "> McCoy et al. Development and evaluation of a crowdsourcing methodology for knowledge base construction: identifying relationships between clinical problems and medications. \n",
    "doi:10.1136/amiajnl-2012-000852"
   ]
  },
  {
   "cell_type": "code",
   "execution_count": 1,
   "metadata": {
    "collapsed": false
   },
   "outputs": [],
   "source": [
    "import csv"
   ]
  },
  {
   "cell_type": "code",
   "execution_count": 2,
   "metadata": {
    "collapsed": true
   },
   "outputs": [],
   "source": [
    "# convert pdf to text\n",
    "!pdftotext amiajnl-2012-000852-s1.pdf"
   ]
  },
  {
   "cell_type": "code",
   "execution_count": 3,
   "metadata": {
    "collapsed": true
   },
   "outputs": [],
   "source": [
    "def generate_lines(path):\n",
    "    with open(path) as read_file:\n",
    "        for line in read_file:\n",
    "            line = line.lstrip('\\x0c')\n",
    "            if line.startswith('file://'):\n",
    "                continue\n",
    "            if not line.strip():\n",
    "                continue\n",
    "            yield line"
   ]
  },
  {
   "cell_type": "code",
   "execution_count": 4,
   "metadata": {
    "collapsed": false
   },
   "outputs": [],
   "source": [
    "lines = generate_lines('amiajnl-2012-000852-s1.txt')\n",
    "n_lines = 0\n",
    "with open('amiajnl-2012-000852-s1.tsv', 'w') as write_file:\n",
    "    writer = csv.writer(write_file, delimiter='\\t')\n",
    "    line_gen = generate_lines('amiajnl-2012-000852-s1.txt')\n",
    "    reader = csv.reader(line_gen, delimiter='|', quotechar='\"', quoting=csv.QUOTE_ALL)\n",
    "    for row in reader:\n",
    "        row = [elem.replace('\\n', ' ') for elem in row]\n",
    "        writer.writerow(row)\n",
    "        n_lines += 1\n",
    "\n",
    "assert n_lines == 11166 + 1 # 1 for header"
   ]
  }
 ],
 "metadata": {
  "kernelspec": {
   "display_name": "Python 3",
   "language": "python",
   "name": "python3"
  },
  "language_info": {
   "codemirror_mode": {
    "name": "ipython",
    "version": 3
   },
   "file_extension": ".py",
   "mimetype": "text/x-python",
   "name": "python",
   "nbconvert_exporter": "python",
   "pygments_lexer": "ipython3",
   "version": "3.4.0"
  }
 },
 "nbformat": 4,
 "nbformat_minor": 0
}
